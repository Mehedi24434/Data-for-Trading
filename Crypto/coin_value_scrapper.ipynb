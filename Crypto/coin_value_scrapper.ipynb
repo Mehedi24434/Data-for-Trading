{
 "cells": [
  {
   "cell_type": "code",
   "execution_count": 49,
   "metadata": {},
   "outputs": [],
   "source": [
    "\n",
    "format_list = [\n",
    "    \"BTC/USDT\",\n",
    "    \"ETH/USDT\",\n",
    "    \"BNB/USDT\",\n",
    "    \"USDC/USDT\",\n",
    "    \"XRP/USDT\",\n",
    "    \"ADA/USDT\",\n",
    "    \"SOL/USDT\",\n",
    "    \"LUNA/USDT\",\n",
    "    \"DOT/USDT\",\n",
    "    \"DOGE/USDT\",\n",
    "    \"AVAX/USDT\",\n",
    "    \"MATIC/USDT\",\n",
    "    \"WBTC/USDT\",\n",
    "    \"LINK/USDT\",\n",
    "    \"UNI/USDT\",\n",
    "    \"ICP/USDT\",\n",
    "    \"ATOM/USDT\",\n",
    "    \"BUSD/USDT\",\n",
    "    \"AXS/USDT\",\n",
    "    \"NEAR/USDT\",\n",
    "    \"SAND/USDT\",\n",
    "    \"EOS/USDT\",\n",
    "    \"LTC/USDT\",\n",
    "    \"XLM/USDT\",\n",
    "    \"XMR/USDT\",\n",
    "    \"XTZ/USDT\",\n",
    "    \"SHIB/USDT\",\n",
    "   \"THETA/USDT\",\n",
    "    \"VET/USDT\",\n",
    "    \"RUNE/USDT\",\n",
    "    \"FIL/USDT\",\n",
    "    \"MKR/USDT\",\n",
    "    \"USDC/USDT\",\n",
    "    \"BCH/USDT\",\n",
    "    \"COMP/USDT\",\n",
    "    \"AAVE/USDT\",\n",
    "    \"NEO/USDT\",\n",
    "    \"ALGO/USDT\",\n",
    "    \"ZEC/USDT\",\n",
    "    \"ICP/USDT\",\n",
    "    \"TRX/USDT\",\n",
    "    \"HBAR/USDT\",\n",
    "    \"DGB/USDT\",\n",
    "    \"EOS/USDT\",\n",
    "    \"MKR/USDT\",\n",
    "    \"XEM/USDT\", \"ONT/USDT\",\"VTHO/USDT\",\n",
    "    \"GRT/USDT\", \"SXP/USDT\", \"BAND/USDT\"\n",
    "]\n"
   ]
  },
  {
   "cell_type": "code",
   "execution_count": 48,
   "metadata": {},
   "outputs": [
    {
     "data": {
      "text/plain": [
       "51"
      ]
     },
     "execution_count": 48,
     "metadata": {},
     "output_type": "execute_result"
    }
   ],
   "source": [
    "len(format_list)\n"
   ]
  },
  {
   "cell_type": "code",
   "execution_count": 50,
   "metadata": {},
   "outputs": [
    {
     "name": "stdout",
     "output_type": "stream",
     "text": [
      "BTC.csv saved successfully.\n",
      "ETH.csv saved successfully.\n",
      "BNB.csv saved successfully.\n",
      "USDC.csv saved successfully.\n",
      "XRP.csv saved successfully.\n",
      "ADA.csv saved successfully.\n",
      "SOL.csv saved successfully.\n",
      "LUNA.csv saved successfully.\n",
      "DOT.csv saved successfully.\n",
      "DOGE.csv saved successfully.\n",
      "AVAX.csv saved successfully.\n",
      "MATIC.csv saved successfully.\n",
      "WBTC.csv saved successfully.\n",
      "LINK.csv saved successfully.\n",
      "UNI.csv saved successfully.\n",
      "ICP.csv saved successfully.\n",
      "ATOM.csv saved successfully.\n",
      "BUSD.csv saved successfully.\n",
      "AXS.csv saved successfully.\n",
      "NEAR.csv saved successfully.\n",
      "SAND.csv saved successfully.\n",
      "EOS.csv saved successfully.\n",
      "LTC.csv saved successfully.\n",
      "XLM.csv saved successfully.\n",
      "XMR.csv saved successfully.\n",
      "XTZ.csv saved successfully.\n",
      "SHIB.csv saved successfully.\n",
      "THETA.csv saved successfully.\n",
      "VET.csv saved successfully.\n",
      "RUNE.csv saved successfully.\n",
      "FIL.csv saved successfully.\n",
      "MKR.csv saved successfully.\n",
      "USDC.csv saved successfully.\n",
      "BCH.csv saved successfully.\n",
      "COMP.csv saved successfully.\n",
      "AAVE.csv saved successfully.\n",
      "NEO.csv saved successfully.\n",
      "ALGO.csv saved successfully.\n",
      "ZEC.csv saved successfully.\n",
      "ICP.csv saved successfully.\n",
      "TRX.csv saved successfully.\n",
      "HBAR.csv saved successfully.\n",
      "DGB.csv saved successfully.\n",
      "EOS.csv saved successfully.\n",
      "MKR.csv saved successfully.\n",
      "XEM.csv saved successfully.\n",
      "ONT.csv saved successfully.\n",
      "VTHO.csv saved successfully.\n",
      "GRT.csv saved successfully.\n",
      "SXP.csv saved successfully.\n",
      "BAND.csv saved successfully.\n"
     ]
    }
   ],
   "source": [
    "for x in format_list:\n",
    "    import ccxt\n",
    "    import pandas as pd\n",
    "    binance = ccxt.binance()\n",
    "    time = '1d'\n",
    "    limit = 1000\n",
    "    symbol = x.split(\"/\")[0]\n",
    "    start_timestamp = binance.parse8601('2018-01-01T00:00:00Z')  # adjust start date as needed\n",
    "    end_timestamp = binance.milliseconds()  # current timestamp\n",
    "    df_list = []\n",
    "    while start_timestamp < end_timestamp:\n",
    "        # fetch candlestick data for the specified time range\n",
    "        coin_ticker = binance.fetch_ohlcv(x, time, since=start_timestamp, limit=limit)\n",
    "        # convert data to pandas dataframe\n",
    "        df = pd.DataFrame(coin_ticker, columns=['Date', 'Open', 'High', 'Low', 'Close', 'Volume'])\n",
    "        df['Date'] = pd.to_datetime(df['Date'], unit='ms')\n",
    "        # append dataframe to list\n",
    "        df_list.append(df)\n",
    "        # increment start_timestamp to the end of the current data range\n",
    "        start_timestamp = coin_ticker[-1][0] + (24 * 60 * 60 * 1000)  # add 1 day in milliseconds\n",
    "    # concatenate all dataframes in the list into a single dataframe\n",
    "    df = pd.concat(df_list, ignore_index=True)\n",
    "    # Save the dataframe as a CSV file\n",
    "    filename = symbol + \".csv\"  # Use the symbol as the filename\n",
    "    df.to_csv(filename, index=False)\n",
    "    print(f\"{filename} saved successfully.\")"
   ]
  }
 ],
 "metadata": {
  "kernelspec": {
   "display_name": "abc",
   "language": "python",
   "name": "python3"
  },
  "language_info": {
   "codemirror_mode": {
    "name": "ipython",
    "version": 3
   },
   "file_extension": ".py",
   "mimetype": "text/x-python",
   "name": "python",
   "nbconvert_exporter": "python",
   "pygments_lexer": "ipython3",
   "version": "3.9.13"
  },
  "orig_nbformat": 4
 },
 "nbformat": 4,
 "nbformat_minor": 2
}
